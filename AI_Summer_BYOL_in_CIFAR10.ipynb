{
  "cells": [
    {
      "cell_type": "markdown",
      "metadata": {
        "id": "_OMBQgFNUMyQ"
      },
      "source": [
        "# BYOL CIFAR10 Tutorial Ai Summer\n",
        "\n",
        "## Basic imports"
      ]
    },
    {
      "cell_type": "code",
      "execution_count": null,
      "metadata": {
        "id": "bDaWDTnQ4SSj"
      },
      "outputs": [],
      "source": [
        "from tqdm import tqdm\n",
        "import numpy as np\n",
        "import torch\n",
        "import torch.nn as nn\n",
        "import torch.optim as optim\n",
        "import torch.utils.data as data\n",
        "import torchvision.transforms as transforms\n",
        "\n",
        "def reproducibility(SEED):\n",
        "    torch.manual_seed(SEED)\n",
        "    torch.backends.cudnn.deterministic = True\n",
        "    torch.backends.cudnn.benchmark = False\n",
        "    np.random.seed(SEED)\n",
        "    if torch.cuda.is_available():\n",
        "        torch.cuda.manual_seed(SEED)\n",
        "\n",
        "def define_param_groups(model, weight_decay, optimizer_name):\n",
        "    def exclude_from_wd_and_adaptation(name):\n",
        "        if 'bn' in name:\n",
        "            return True\n",
        "        if optimizer_name == 'lars' and 'bias' in name:\n",
        "            return True\n",
        "\n",
        "    param_groups = [\n",
        "        {\n",
        "            'params': [p for name, p in model.named_parameters() if not exclude_from_wd_and_adaptation(name)],\n",
        "            'weight_decay': weight_decay,\n",
        "            'layer_adaptation': True,\n",
        "        },\n",
        "        {\n",
        "            'params': [p for name, p in model.named_parameters() if exclude_from_wd_and_adaptation(name)],\n",
        "            'weight_decay': 0.,\n",
        "            'layer_adaptation': False,\n",
        "        },\n",
        "    ]\n",
        "    return param_groups"
      ]
    },
    {
      "cell_type": "markdown",
      "metadata": {
        "id": "znYh1nn7b1XG"
      },
      "source": [
        "## Augmentations \n"
      ]
    },
    {
      "cell_type": "code",
      "execution_count": null,
      "metadata": {
        "id": "X5wf39mFb0FC"
      },
      "outputs": [],
      "source": [
        "import torch\n",
        "from torchvision import transforms as T\n",
        "import torchvision.transforms.functional as TF\n",
        "import random\n",
        "\n",
        "\n",
        "class Augment:\n",
        "    \"\"\"\n",
        "    A stochastic data augmentation module\n",
        "    Transforms any given data example randomly\n",
        "    resulting in two correlated views of the same example,\n",
        "    denoted x ̃i and x ̃j, which we consider as a positive pair.\n",
        "    \"\"\"\n",
        "    def __init__(self, img_size, s=1):\n",
        "        color_jitter = T.ColorJitter(\n",
        "            0.8 * s, 0.8 * s, 0.8 * s, 0.2 * s\n",
        "        )\n",
        "        blur = T.GaussianBlur((3, 3), (0.1, 2.0))\n",
        "\n",
        "        self.train_transform = T.Compose([\n",
        "            T.ToTensor(),\n",
        "            T.RandomResizedCrop(size=img_size),\n",
        "            T.RandomHorizontalFlip(p=0.5),  # with 0.5 probability\n",
        "            T.RandomApply([color_jitter], p=0.8),\n",
        "            T.RandomApply([blur], p=0.5),\n",
        "            T.RandomGrayscale(p=0.2),\n",
        "            # imagenet stats\n",
        "            T.Normalize(mean=[0.485, 0.456, 0.406], std=[0.229, 0.224, 0.225])            \n",
        "        ])\n",
        "    def __call__(self, x):\n",
        "        return self.train_transform(x), self.train_transform(x), "
      ]
    },
    {
      "cell_type": "markdown",
      "metadata": {
        "id": "nDg1RCPFerm6"
      },
      "source": [
        "# Dataloaders"
      ]
    },
    {
      "cell_type": "code",
      "execution_count": null,
      "metadata": {
        "colab": {
          "base_uri": "https://localhost:8080/",
          "height": 86
        },
        "id": "HQPmF7XIes7B",
        "outputId": "cde464af-0f5a-48e0-a31c-a850385c5d55"
      },
      "outputs": [
        {
          "name": "stdout",
          "output_type": "stream",
          "text": [
            "Downloading https://www.cs.toronto.edu/~kriz/cifar-10-python.tar.gz to ./cifar-10-python.tar.gz\n"
          ]
        },
        {
          "data": {
            "application/vnd.jupyter.widget-view+json": {
              "model_id": "13da6466c1824e52ad4cd6861c366f23",
              "version_major": 2,
              "version_minor": 0
            },
            "text/plain": [
              "  0%|          | 0/170498071 [00:00<?, ?it/s]"
            ]
          },
          "metadata": {},
          "output_type": "display_data"
        },
        {
          "name": "stdout",
          "output_type": "stream",
          "text": [
            "Extracting ./cifar-10-python.tar.gz to ./\n"
          ]
        }
      ],
      "source": [
        "from torchvision.datasets import CIFAR10\n",
        "from torch.utils.data import DataLoader\n",
        "\n",
        "def get_cifar10_dataloader(batch_size, train=True, transform=Augment(224)):\n",
        "    dataset = CIFAR10(root=\"./\", train=train, transform=transform, download=True)\n",
        "    return DataLoader(dataset=dataset, batch_size=batch_size, num_workers=4, drop_last=True)\n",
        "data_transform = Augment(32)\n",
        "dataloader = get_cifar10_dataloader(batch_size=64, train=True, transform=data_transform)"
      ]
    },
    {
      "cell_type": "markdown",
      "metadata": {
        "id": "TxS14RpVRih5"
      },
      "source": [
        "# BYOL method"
      ]
    },
    {
      "cell_type": "code",
      "execution_count": null,
      "metadata": {
        "id": "nGbRO6fWRfZT"
      },
      "outputs": [],
      "source": [
        "import copy\n",
        "import torch\n",
        "from torch import nn\n",
        "import torch.nn.functional as F\n",
        "\n",
        "class MLP(nn.Module):\n",
        "    def __init__(self, dim, embedding_size=256, hidden_size=2048, batch_norm_mlp=False):\n",
        "        super().__init__()\n",
        "        norm = nn.BatchNorm1d(hidden_size) if batch_norm_mlp else nn.Identity()\n",
        "        self.net = nn.Sequential(\n",
        "            nn.Linear(dim, hidden_size),\n",
        "            norm,\n",
        "            nn.ReLU(inplace=True),\n",
        "            nn.Linear(hidden_size, embedding_size)\n",
        "        )\n",
        "\n",
        "    def forward(self, x):\n",
        "        return self.net(x)\n",
        "\n",
        "\n",
        "class AddProjHead(nn.Module):\n",
        "    def __init__(self, model, in_features, layer_name, hidden_size=4096,\n",
        "                 embedding_size=256, batch_norm_mlp=True):\n",
        "        super(AddProjHead, self).__init__()\n",
        "        self.backbone = model\n",
        "        # remove last layer 'fc' or 'classifier'\n",
        "        setattr(self.backbone, layer_name, nn.Identity())\n",
        "        self.backbone.conv1 = torch.nn.Conv2d(3, 64, kernel_size=3, stride=1, padding=1, bias=False)\n",
        "        self.backbone.maxpool = torch.nn.Identity()\n",
        "        # add mlp projection head\n",
        "        self.projection = MLP(in_features, embedding_size, hidden_size=hidden_size, batch_norm_mlp=batch_norm_mlp)\n",
        "\n",
        "    def forward(self, x, return_embedding=False):\n",
        "        embedding = self.backbone(x)\n",
        "        if return_embedding:\n",
        "            return embedding\n",
        "        return self.projection(embedding)\n",
        "\n",
        "\n",
        "def loss_fn(x, y):\n",
        "    # L2 normalization\n",
        "    x = F.normalize(x, dim=-1, p=2)\n",
        "    y = F.normalize(y, dim=-1, p=2)\n",
        "    return 2 - 2 * (x * y).sum(dim=-1)\n",
        "\n",
        "\n",
        "class EMA():\n",
        "    def __init__(self, alpha):\n",
        "        super().__init__()\n",
        "        self.alpha = alpha\n",
        "\n",
        "    def update_average(self, old, new):\n",
        "        if old is None:\n",
        "            return new\n",
        "        return old * self.alpha + (1 - self.alpha) * new\n",
        "\n",
        "\n",
        "\n",
        "class BYOL(nn.Module):\n",
        "    def __init__(\n",
        "            self,\n",
        "            net,\n",
        "            batch_norm_mlp=True,\n",
        "            layer_name='fc',\n",
        "            in_features=512,\n",
        "            projection_size=256,\n",
        "            projection_hidden_size=2048,\n",
        "            moving_average_decay=0.99,\n",
        "            use_momentum=True):\n",
        "        \"\"\"\n",
        "        Args:\n",
        "            net: model to be trained\n",
        "            batch_norm_mlp: whether to use batchnorm1d in the mlp predictor and projector\n",
        "            in_features: the number features that are produced by the backbone net i.e. resnet\n",
        "            projection_size: the size of the output vector of the two identical MLPs\n",
        "            projection_hidden_size: the size of the hidden vector of the two identical MLPs\n",
        "            augment_fn2: apply different augmentation the second view\n",
        "            moving_average_decay: t hyperparameter to control the influence in the target network weight update\n",
        "            use_momentum: whether to update the target network\n",
        "        \"\"\"\n",
        "        super().__init__()\n",
        "        self.net = net\n",
        "        self.student_model = AddProjHead(model=net, in_features=in_features,\n",
        "                                         layer_name=layer_name,\n",
        "                                         embedding_size=projection_size,\n",
        "                                         hidden_size=projection_hidden_size,\n",
        "                                         batch_norm_mlp=batch_norm_mlp)\n",
        "        self.use_momentum = use_momentum\n",
        "        self.teacher_model = self._get_teacher()\n",
        "        self.target_ema_updater = EMA(moving_average_decay)\n",
        "        self.student_predictor = MLP(projection_size, projection_size, projection_hidden_size)\n",
        "    \n",
        "    @torch.no_grad()\n",
        "    def _get_teacher(self):\n",
        "        return copy.deepcopy(self.student_model)\n",
        "    \n",
        "    @torch.no_grad()\n",
        "    def update_moving_average(self):\n",
        "        assert self.use_momentum, 'you do not need to update the moving average, since you have turned off momentum ' \\\n",
        "                                  'for the target encoder '\n",
        "        assert self.teacher_model is not None, 'target encoder has not been created yet'\n",
        "\n",
        "        for student_params, teacher_params in zip(self.student_model.parameters(), self.teacher_model.parameters()):\n",
        "          old_weight, up_weight = teacher_params.data, student_params.data\n",
        "          teacher_params.data = self.target_ema_updater.update_average(old_weight, up_weight)\n",
        "\n",
        "    def forward(\n",
        "            self,\n",
        "            image_one, image_two=None,\n",
        "            return_embedding=False):\n",
        "        if return_embedding or (image_two is None):\n",
        "            return self.student_model(image_one, return_embedding=True)\n",
        "\n",
        "        # student projections: backbone + MLP projection\n",
        "        student_proj_one = self.student_model(image_one)\n",
        "        student_proj_two = self.student_model(image_two)\n",
        "\n",
        "        # additional student's MLP head called predictor\n",
        "        student_pred_one = self.student_predictor(student_proj_one)\n",
        "        student_pred_two = self.student_predictor(student_proj_two)\n",
        "\n",
        "        with torch.no_grad():\n",
        "            # teacher processes the images and makes projections: backbone + MLP\n",
        "            teacher_proj_one = self.teacher_model(image_one).detach_()\n",
        "            teacher_proj_two = self.teacher_model(image_two).detach_()\n",
        "            \n",
        "        loss_one = loss_fn(student_pred_one, teacher_proj_one)\n",
        "        loss_two = loss_fn(student_pred_two, teacher_proj_two)        \n",
        "\n",
        "        return (loss_one + loss_two).mean()\n"
      ]
    },
    {
      "cell_type": "markdown",
      "metadata": {
        "id": "OTPAkVK3sMzS"
      },
      "source": [
        "# LARS optimizer\n"
      ]
    },
    {
      "cell_type": "code",
      "execution_count": null,
      "metadata": {
        "id": "12HgYb4jsVKI"
      },
      "outputs": [],
      "source": [
        "from torch.optim.optimizer import Optimizer, required\n",
        "import torch\n",
        "\n",
        "# almost copy paste from https://github.com/noahgolmant/pytorch-lars/blob/master/lars.py\n",
        "class LARS(Optimizer):\n",
        "    r\"\"\"Implements LARS (Layer-wise Adaptive Rate Scaling).\n",
        "    Args:\n",
        "        params (iterable): iterable of parameters to optimize or dicts defining\n",
        "            parameter groups\n",
        "        lr (float): learning rate\n",
        "        momentum (float, optional): momentum factor (default: 0)\n",
        "        eta (float, optional): LARS coefficient as used in the paper (default: 1e-3)\n",
        "        weight_decay (float, optional): weight decay (L2 penalty) (default: 0)\n",
        "        dampening (float, optional): dampening for momentum (default: 0)\n",
        "        nesterov (bool, optional): enables Nesterov momentum (default: False)\n",
        "        epsilon (float, optional): epsilon to prevent zero division (default: 0)\n",
        "    Example:\n",
        "        >>> optimizer = torch.optim.LARS(model.parameters(), lr=0.1, momentum=0.9)\n",
        "        >>> optimizer.zero_grad()\n",
        "        >>> loss_fn(model(input), target).backward()\n",
        "        >>> optimizer.step()\n",
        "    \"\"\"\n",
        "\n",
        "    def __init__(self, params, lr=required, momentum=0, eta=1e-3, dampening=0,\n",
        "                 weight_decay=0, nesterov=False, epsilon=0):\n",
        "        if lr is not required and lr < 0.0:\n",
        "            raise ValueError(\"Invalid learning rate: {}\".format(lr))\n",
        "        if momentum < 0.0:\n",
        "            raise ValueError(\"Invalid momentum value: {}\".format(momentum))\n",
        "        if weight_decay < 0.0:\n",
        "            raise ValueError(\"Invalid weight_decay value: {}\".format(weight_decay))\n",
        "\n",
        "        defaults = dict(lr=lr, momentum=momentum, eta=eta, dampening=dampening,\n",
        "                        weight_decay=weight_decay, nesterov=nesterov, epsilon=epsilon)\n",
        "        if nesterov and (momentum <= 0 or dampening != 0):\n",
        "            raise ValueError(\"Nesterov momentum requires a momentum and zero dampening\")\n",
        "        super(LARS, self).__init__(params, defaults)\n",
        "\n",
        "    def __setstate__(self, state):\n",
        "        super(LARS, self).__setstate__(state)\n",
        "        for group in self.param_groups:\n",
        "            group.setdefault('nesterov', False)\n",
        "\n",
        "    def step(self, closure=None):\n",
        "        \"\"\"Performs a single optimization step.\n",
        "        Arguments:\n",
        "            closure (callable, optional): A closure that reevaluates the model\n",
        "                and returns the loss.\n",
        "        \"\"\"\n",
        "        loss = None\n",
        "        if closure is not None:\n",
        "            loss = closure()\n",
        "\n",
        "        for group in self.param_groups:\n",
        "            weight_decay = group['weight_decay']\n",
        "            momentum = group['momentum']\n",
        "            eta = group['eta']\n",
        "            dampening = group['dampening']\n",
        "            nesterov = group['nesterov']\n",
        "            epsilon = group['epsilon']\n",
        "\n",
        "            for p in group['params']:\n",
        "                if p.grad is None:\n",
        "                    continue\n",
        "                w_norm = torch.norm(p.data)\n",
        "                g_norm = torch.norm(p.grad.data)\n",
        "                if w_norm * g_norm > 0:\n",
        "                    local_lr = eta * w_norm / (g_norm +\n",
        "                        weight_decay * w_norm + epsilon)\n",
        "                else:\n",
        "                    local_lr = 1\n",
        "                d_p = p.grad.data\n",
        "                if weight_decay != 0:\n",
        "                    d_p.add_(p.data, alpha=weight_decay)\n",
        "                if momentum != 0:\n",
        "                    param_state = self.state[p]\n",
        "                    if 'momentum_buffer' not in param_state:\n",
        "                        buf = param_state['momentum_buffer'] = torch.clone(d_p).detach()\n",
        "                    else:\n",
        "                        buf = param_state['momentum_buffer']\n",
        "                    buf.mul_(momentum).add_(d_p, alpha=1 - dampening)\n",
        "                    if nesterov:\n",
        "                        d_p = d_p.add(momentum, buf)\n",
        "                    else:\n",
        "                        d_p = buf\n",
        "\n",
        "                p.data.add_(d_p, alpha=-local_lr * group['lr'])\n",
        "\n",
        "        return loss"
      ]
    },
    {
      "cell_type": "markdown",
      "metadata": {
        "id": "cGUGGUYo-rwu"
      },
      "source": [
        "# Pre-train function"
      ]
    },
    {
      "cell_type": "code",
      "execution_count": null,
      "metadata": {
        "id": "leycY3ABYxej"
      },
      "outputs": [],
      "source": [
        "def training_step(model, data):\n",
        "    (view1, view2), _ = data\n",
        "    loss = model(view1.cuda(), view2.cuda())\n",
        "    return loss\n",
        "\n",
        "def train_one_epoch(model, train_dataloader, optimizer):\n",
        "    model.train()\n",
        "    total_loss = 0.\n",
        "    num_batches = len(train_dataloader)\n",
        "    for data in train_dataloader:\n",
        "        optimizer.zero_grad()\n",
        "        loss = training_step(model, data)\n",
        "        loss.backward()\n",
        "        optimizer.step()\n",
        "        # EMA update\n",
        "        model.update_moving_average()\n",
        "\n",
        "        total_loss += loss.item()\n",
        "        \n",
        "    \n",
        "    return total_loss/num_batches"
      ]
    },
    {
      "cell_type": "markdown",
      "metadata": {
        "id": "jtfbIiygSX9_"
      },
      "source": [
        "# KNN evaluation to track classification accuray through ssl pretraining"
      ]
    },
    {
      "cell_type": "code",
      "execution_count": null,
      "metadata": {
        "id": "oqeDuGP_Xmkr"
      },
      "outputs": [],
      "source": [
        "import numpy as np\n",
        "import torch\n",
        "from sklearn.model_selection import cross_val_score\n",
        "from sklearn.neighbors import KNeighborsClassifier\n",
        "from torch import nn\n",
        "\n",
        "\n",
        "class KNN():\n",
        "    def __init__(self, model, k, device):\n",
        "        super(KNN, self).__init__()\n",
        "        self.k = k\n",
        "        self.device = device\n",
        "        self.model = model.to(device)\n",
        "        self.model.eval()\n",
        "\n",
        "    def extract_features(self, loader):\n",
        "        \"\"\"\n",
        "        Infer/Extract features from a trained model\n",
        "        Args:\n",
        "            loader: train or test loader\n",
        "        Returns: 3 tensors of all:  input_images, features , labels\n",
        "        \"\"\"\n",
        "        x_lst = []\n",
        "        features = []\n",
        "        label_lst = []\n",
        "\n",
        "        with torch.no_grad():\n",
        "            for input_tensor, label in loader:\n",
        "                h = self.model(input_tensor.to(self.device))\n",
        "                features.append(h)\n",
        "                x_lst.append(input_tensor)\n",
        "                label_lst.append(label)\n",
        "\n",
        "            x_total = torch.stack(x_lst)\n",
        "            h_total = torch.stack(features)\n",
        "            label_total = torch.stack(label_lst)\n",
        "\n",
        "            return x_total, h_total, label_total\n",
        "\n",
        "    def knn(self, features, labels, k=1):\n",
        "        \"\"\"\n",
        "        Evaluating knn accuracy in feature space.\n",
        "        Calculates only top-1 accuracy (returns 0 for top-5)\n",
        "        Args:\n",
        "            features: [... , dataset_size, feat_dim]\n",
        "            labels: [... , dataset_size]\n",
        "            k: nearest neighbours\n",
        "        Returns: train accuracy, or train and test acc\n",
        "        \"\"\"\n",
        "        feature_dim = features.shape[-1]\n",
        "        with torch.no_grad():\n",
        "            features_np = features.cpu().view(-1, feature_dim).numpy()\n",
        "            labels_np = labels.cpu().view(-1).numpy()\n",
        "            # fit\n",
        "            self.cls = KNeighborsClassifier(k, metric=\"cosine\").fit(features_np, labels_np)\n",
        "            acc = self.eval(features, labels)\n",
        "            \n",
        "        return acc\n",
        "    \n",
        "    def eval(self, features, labels):\n",
        "      feature_dim = features.shape[-1]\n",
        "      features = features.cpu().view(-1, feature_dim).numpy()\n",
        "      labels = labels.cpu().view(-1).numpy()\n",
        "      acc = 100 * np.mean(cross_val_score(self.cls, features, labels))\n",
        "      return acc\n",
        "\n",
        "    def _find_best_indices(self, h_query, h_ref):\n",
        "        h_query = h_query / h_query.norm(dim=1).view(-1, 1)\n",
        "        h_ref = h_ref / h_ref.norm(dim=1).view(-1, 1)\n",
        "        scores = torch.matmul(h_query, h_ref.t())  # [query_bs, ref_bs]\n",
        "        score, indices = scores.topk(1, dim=1)  # select top k best\n",
        "        return score, indices\n",
        "\n",
        "    def fit(self, train_loader, test_loader=None):\n",
        "        with torch.no_grad():\n",
        "            x_train, h_train, l_train = self.extract_features(train_loader)\n",
        "            train_acc = self.knn(h_train, l_train, k=self.k)\n",
        "\n",
        "            if test_loader is not None:\n",
        "                x_test, h_test, l_test = self.extract_features(test_loader)\n",
        "                test_acc = self.eval(h_test, l_test)\n",
        "                return train_acc, test_acc"
      ]
    },
    {
      "cell_type": "markdown",
      "metadata": {
        "id": "Q5JfoJj69vex"
      },
      "source": [
        "# Putting it all together"
      ]
    },
    {
      "cell_type": "code",
      "execution_count": null,
      "metadata": {
        "id": "zqnw0lfq-zm0"
      },
      "outputs": [],
      "source": [
        "import torchvision.models as models\n",
        "import torch\n",
        "import numpy as np\n",
        "import os\n",
        "import torch\n",
        "import torchvision.transforms as T\n",
        "import torch.nn as nn\n",
        "import torch.nn.functional as F\n",
        "from torchvision.datasets import CIFAR10\n",
        "from torch.utils.data import DataLoader\n",
        "from google.colab import files\n",
        "\n",
        "load = False\n",
        "model = models.resnet18(pretrained=False)\n",
        "model = BYOL(model, in_features=512, batch_norm_mlp=True)\n",
        "model.cuda()\n",
        "\n",
        "# optimizer and loss\n",
        "lr = 3e-4\n",
        "weight_decay = 0.000001\n",
        "BATCH_SIZE  = 256\n",
        "\n",
        "\n",
        "#param_groups = define_param_groups(model, weight_decay, 'lars')    \n",
        "#optimizer = LARS(param_groups, lr=0.1, momentum=0.9)\n",
        "\n",
        "optimizer = torch.optim.Adam(model.parameters(), lr=lr)\n",
        "\n",
        "# data\n",
        "data_transform = Augment(32)\n",
        "\n",
        "test_transform = T.Compose([\n",
        "            T.ToTensor(),\n",
        "            T.Normalize(mean=[0.485, 0.456, 0.406], std=[0.229, 0.224, 0.225]) ])\n",
        "\n",
        "\n",
        "loader_train = get_cifar10_dataloader(batch_size=BATCH_SIZE, train=True, transform=data_transform)\n",
        "loader_train_plain = get_cifar10_dataloader(batch_size=BATCH_SIZE, train=True, transform=test_transform)\n",
        "loader_test = get_cifar10_dataloader(batch_size=BATCH_SIZE, train=False, transform=test_transform)\n",
        "\n",
        "\n",
        "# general info\n",
        "available_gpus = len([torch.cuda.device(i) for i in range(torch.cuda.device_count())])\n",
        "print('available_gpus:',available_gpus)\n",
        "\n",
        "PATH = 'BYOL_resNet18.ckpt'\n",
        "\n",
        "reproducibility(9999)\n",
        "\n",
        "if load:\n",
        "  model.load_state_dict(torch.load(\"....ckpt\"))\n",
        "\n",
        "\n",
        "epochs = 100\n",
        "mean_losses = []\n",
        "train_knns = []\n",
        "val_knns = []\n",
        "\n",
        "for i in range(epochs):\n",
        "  mean_loss = train_one_epoch(model, loader_train, optimizer)\n",
        "  \n",
        "  mean_losses.append(mean_loss)\n",
        "  if (i%4)==0:\n",
        "    # KNN evaluation\n",
        "    ssl_evaluator = KNN(model=model, k=1, device='cuda')\n",
        "    train_acc, val_acc = ssl_evaluator.fit(loader_train_plain, loader_test)\n",
        "    print(f'\\n Epoch {i}: loss:{mean_loss}')\n",
        "    print(f\"k-nn accuracy k= {ssl_evaluator.k} for train split: {train_acc}\")\n",
        "    print(f\"k-nn accuracy k= {ssl_evaluator.k} for val split: {val_acc} \\n\")\n",
        "    print('-----------------')\n",
        "    train_knns.append(train_acc)\n",
        "    val_knns.append(val_acc)\n",
        "\n",
        "\n",
        "import matplotlib.pyplot as plt\n",
        "\n",
        "plt.plot(train_knns, label='train set KNN acc (%)')\n",
        "plt.plot(val_knns, label='val set KNN acc (%)')\n",
        "plt.ylabel('Accuracy in %')\n",
        "plt.xlabel('Epochs')\n",
        "plt.legend()\n",
        "\n",
        "\n",
        "torch.save(model.state_dict(), PATH)\n",
        "files.download(PATH)"
      ]
    },
    {
      "cell_type": "code",
      "execution_count": null,
      "metadata": {
        "colab": {
          "base_uri": "https://localhost:8080/",
          "height": 406
        },
        "id": "3dE_pZtRBXeV",
        "outputId": "8f9396f9-3e5f-4857-8360-4e5c6efd5c85"
      },
      "outputs": [
        {
          "data": {
            "text/plain": [
              "<matplotlib.legend.Legend at 0x7fe3a0292390>"
            ]
          },
          "execution_count": 10,
          "metadata": {},
          "output_type": "execute_result"
        },
        {
          "data": {
            "image/png": "[encoded data removed]",
            "text/plain": [
              "<Figure size 720x432 with 1 Axes>"
            ]
          },
          "metadata": {},
          "output_type": "display_data"
        }
      ],
      "source": [
        "indices = range(0,100,4)\n",
        "plt.figure(figsize=(10,6))\n",
        "plt.plot(indices, train_knns, label='train set KNN acc (%)')\n",
        "plt.plot(indices, val_knns, label='val set KNN acc (%)')\n",
        "plt.ylabel('Accuracy in %')\n",
        "plt.xlabel('Epochs')\n",
        "plt.legend()"
      ]
    },
    {
      "cell_type": "code",
      "execution_count": null,
      "metadata": {
        "colab": {
          "base_uri": "https://localhost:8080/",
          "height": 406
        },
        "id": "skRpnHRHfcVC",
        "outputId": "4bd392f2-7735-4518-acd5-20f7e3e14c27"
      },
      "outputs": [
        {
          "data": {
            "text/plain": [
              "<matplotlib.legend.Legend at 0x7f3050c0f150>"
            ]
          },
          "execution_count": 18,
          "metadata": {},
          "output_type": "execute_result"
        },
        {
          "data": {
            "image/png": "[encoded data removed]",
            "text/plain": [
              "<Figure size 1008x432 with 1 Axes>"
            ]
          },
          "metadata": {},
          "output_type": "display_data"
        }
      ],
      "source": [
        "indices = range(0,100,4)\n",
        "plt.figure(figsize=(14,6))\n",
        "plt.plot(indices, train_knns, label='train set KNN acc (%)')\n",
        "plt.plot(indices, val_knns, label='val set KNN acc (%)')\n",
        "plt.ylabel('Accuracy in %')\n",
        "plt.xlabel('Epochs')\n",
        "plt.legend()"
      ]
    },
    {
      "cell_type": "markdown",
      "metadata": {
        "id": "03A0Eap7X-9p"
      },
      "source": [
        "# Fine-tune"
      ]
    },
    {
      "cell_type": "code",
      "execution_count": null,
      "metadata": {
        "colab": {
          "background_save": true,
          "base_uri": "https://localhost:8080/",
          "height": 437
        },
        "id": "X_oUUAdEYAXY",
        "outputId": "8d704968-a2ea-47c5-a4c5-efc20e73f4a2"
      },
      "outputs": [
        {
          "name": "stdout",
          "output_type": "stream",
          "text": [
            "Files already downloaded and verified\n",
            "Files already downloaded and verified\n"
          ]
        },
        {
          "ename": "RuntimeError",
          "evalue": "ignored",
          "output_type": "error",
          "traceback": [
            "\u001b[0;31m---------------------------------------------------------------------------\u001b[0m",
            "\u001b[0;31mRuntimeError\u001b[0m                              Traceback (most recent call last)",
            "\u001b[0;32m<ipython-input-19-70c23dfe95d7>\u001b[0m in \u001b[0;36m<module>\u001b[0;34m()\u001b[0m\n\u001b[1;32m    128\u001b[0m \u001b[0;31m###########################################################################\u001b[0m\u001b[0;34m\u001b[0m\u001b[0;34m\u001b[0m\u001b[0;34m\u001b[0m\u001b[0m\n\u001b[1;32m    129\u001b[0m \u001b[0;34m\u001b[0m\u001b[0m\n\u001b[0;32m--> 130\u001b[0;31m \u001b[0mmodel_byol\u001b[0m\u001b[0;34m,\u001b[0m \u001b[0mval_accs_1\u001b[0m \u001b[0;34m=\u001b[0m \u001b[0mmain\u001b[0m\u001b[0;34m(\u001b[0m\u001b[0;34m'byol'\u001b[0m\u001b[0;34m)\u001b[0m\u001b[0;34m\u001b[0m\u001b[0;34m\u001b[0m\u001b[0m\n\u001b[0m\u001b[1;32m    131\u001b[0m \u001b[0m_\u001b[0m\u001b[0;34m,\u001b[0m \u001b[0mval_accs_2\u001b[0m \u001b[0;34m=\u001b[0m \u001b[0mmain\u001b[0m\u001b[0;34m(\u001b[0m\u001b[0;34m'imagenet'\u001b[0m\u001b[0;34m)\u001b[0m\u001b[0;34m\u001b[0m\u001b[0;34m\u001b[0m\u001b[0m\n\u001b[1;32m    132\u001b[0m \u001b[0;34m\u001b[0m\u001b[0m\n",
            "\u001b[0;32m<ipython-input-19-70c23dfe95d7>\u001b[0m in \u001b[0;36mmain\u001b[0;34m(mode)\u001b[0m\n\u001b[1;32m    105\u001b[0m       \u001b[0mmodel_ssl\u001b[0m \u001b[0;34m=\u001b[0m \u001b[0mBYOL\u001b[0m\u001b[0;34m(\u001b[0m\u001b[0mmodel\u001b[0m\u001b[0;34m,\u001b[0m \u001b[0min_features\u001b[0m\u001b[0;34m=\u001b[0m\u001b[0;36m512\u001b[0m\u001b[0;34m,\u001b[0m \u001b[0mbatch_norm_mlp\u001b[0m\u001b[0;34m=\u001b[0m\u001b[0;32mTrue\u001b[0m\u001b[0;34m)\u001b[0m\u001b[0;34m\u001b[0m\u001b[0;34m\u001b[0m\u001b[0m\n\u001b[1;32m    106\u001b[0m \u001b[0;34m\u001b[0m\u001b[0m\n\u001b[0;32m--> 107\u001b[0;31m       \u001b[0mmodel_ssl\u001b[0m\u001b[0;34m.\u001b[0m\u001b[0mload_state_dict\u001b[0m\u001b[0;34m(\u001b[0m\u001b[0mtorch\u001b[0m\u001b[0;34m.\u001b[0m\u001b[0mload\u001b[0m\u001b[0;34m(\u001b[0m\u001b[0mPATH\u001b[0m\u001b[0;34m)\u001b[0m\u001b[0;34m)\u001b[0m\u001b[0;34m\u001b[0m\u001b[0;34m\u001b[0m\u001b[0m\n\u001b[0m\u001b[1;32m    108\u001b[0m       \u001b[0mmodel\u001b[0m \u001b[0;34m=\u001b[0m \u001b[0mmodel_ssl\u001b[0m\u001b[0;34m.\u001b[0m\u001b[0mstudent_model\u001b[0m\u001b[0;34m.\u001b[0m\u001b[0mbackbone\u001b[0m\u001b[0;34m\u001b[0m\u001b[0;34m\u001b[0m\u001b[0m\n\u001b[1;32m    109\u001b[0m       model.fc = nn.Sequential(\n",
            "\u001b[0;32m/usr/local/lib/python3.7/dist-packages/torch/serialization.py\u001b[0m in \u001b[0;36mload\u001b[0;34m(f, map_location, pickle_module, **pickle_load_args)\u001b[0m\n\u001b[1;32m    598\u001b[0m             \u001b[0;31m# reset back to the original position.\u001b[0m\u001b[0;34m\u001b[0m\u001b[0;34m\u001b[0m\u001b[0;34m\u001b[0m\u001b[0m\n\u001b[1;32m    599\u001b[0m             \u001b[0morig_position\u001b[0m \u001b[0;34m=\u001b[0m \u001b[0mopened_file\u001b[0m\u001b[0;34m.\u001b[0m\u001b[0mtell\u001b[0m\u001b[0;34m(\u001b[0m\u001b[0;34m)\u001b[0m\u001b[0;34m\u001b[0m\u001b[0;34m\u001b[0m\u001b[0m\n\u001b[0;32m--> 600\u001b[0;31m             \u001b[0;32mwith\u001b[0m \u001b[0m_open_zipfile_reader\u001b[0m\u001b[0;34m(\u001b[0m\u001b[0mopened_file\u001b[0m\u001b[0;34m)\u001b[0m \u001b[0;32mas\u001b[0m \u001b[0mopened_zipfile\u001b[0m\u001b[0;34m:\u001b[0m\u001b[0;34m\u001b[0m\u001b[0;34m\u001b[0m\u001b[0m\n\u001b[0m\u001b[1;32m    601\u001b[0m                 \u001b[0;32mif\u001b[0m \u001b[0m_is_torchscript_zip\u001b[0m\u001b[0;34m(\u001b[0m\u001b[0mopened_zipfile\u001b[0m\u001b[0;34m)\u001b[0m\u001b[0;34m:\u001b[0m\u001b[0;34m\u001b[0m\u001b[0;34m\u001b[0m\u001b[0m\n\u001b[1;32m    602\u001b[0m                     warnings.warn(\"'torch.load' received a zip file that looks like a TorchScript archive\"\n",
            "\u001b[0;32m/usr/local/lib/python3.7/dist-packages/torch/serialization.py\u001b[0m in \u001b[0;36m__init__\u001b[0;34m(self, name_or_buffer)\u001b[0m\n\u001b[1;32m    240\u001b[0m \u001b[0;32mclass\u001b[0m \u001b[0m_open_zipfile_reader\u001b[0m\u001b[0;34m(\u001b[0m\u001b[0m_opener\u001b[0m\u001b[0;34m)\u001b[0m\u001b[0;34m:\u001b[0m\u001b[0;34m\u001b[0m\u001b[0;34m\u001b[0m\u001b[0m\n\u001b[1;32m    241\u001b[0m     \u001b[0;32mdef\u001b[0m \u001b[0m__init__\u001b[0m\u001b[0;34m(\u001b[0m\u001b[0mself\u001b[0m\u001b[0;34m,\u001b[0m \u001b[0mname_or_buffer\u001b[0m\u001b[0;34m)\u001b[0m \u001b[0;34m->\u001b[0m \u001b[0;32mNone\u001b[0m\u001b[0;34m:\u001b[0m\u001b[0;34m\u001b[0m\u001b[0;34m\u001b[0m\u001b[0m\n\u001b[0;32m--> 242\u001b[0;31m         \u001b[0msuper\u001b[0m\u001b[0;34m(\u001b[0m\u001b[0m_open_zipfile_reader\u001b[0m\u001b[0;34m,\u001b[0m \u001b[0mself\u001b[0m\u001b[0;34m)\u001b[0m\u001b[0;34m.\u001b[0m\u001b[0m__init__\u001b[0m\u001b[0;34m(\u001b[0m\u001b[0mtorch\u001b[0m\u001b[0;34m.\u001b[0m\u001b[0m_C\u001b[0m\u001b[0;34m.\u001b[0m\u001b[0mPyTorchFileReader\u001b[0m\u001b[0;34m(\u001b[0m\u001b[0mname_or_buffer\u001b[0m\u001b[0;34m)\u001b[0m\u001b[0;34m)\u001b[0m\u001b[0;34m\u001b[0m\u001b[0;34m\u001b[0m\u001b[0m\n\u001b[0m\u001b[1;32m    243\u001b[0m \u001b[0;34m\u001b[0m\u001b[0m\n\u001b[1;32m    244\u001b[0m \u001b[0;34m\u001b[0m\u001b[0m\n",
            "\u001b[0;31mRuntimeError\u001b[0m: PytorchStreamReader failed reading zip archive: failed finding central directory"
          ]
        }
      ],
      "source": [
        "import torchvision\n",
        "PATH = 'BYOL_resNet18.ckpt'\n",
        "\n",
        "import torch.optim as optim\n",
        "import torchvision\n",
        "\n",
        "def train(model, trainloader, epochs, device, valloader, criterion):\n",
        "  optimizer = optim.SGD(model.parameters(), lr=0.0008, momentum=0.9)\n",
        "  model.to(device)\n",
        "  epoch_loss = []\n",
        "  val_accs = []\n",
        "  train_accs = []\n",
        "  # loop over the dataset multiple times\n",
        "  for epoch in range(epochs):  \n",
        "      running_loss = 0.0\n",
        "      correct = 0\n",
        "      total = 0\n",
        "      model.train()\n",
        "      for i, data in enumerate(trainloader):\n",
        "          # get the inputs; data is a list of [inputs, labels]\n",
        "          inputs, labels = data[0].to(device) , data[1].to(device)\n",
        "          labels = labels.view(-1)\n",
        "\n",
        "          # zero the parameter gradients\n",
        "          optimizer.zero_grad()\n",
        "\n",
        "          # forward + backward + optimize\n",
        "          outputs = model(inputs)\n",
        "          loss = criterion(outputs, labels)\n",
        "          loss.backward()\n",
        "          optimizer.step()\n",
        "\n",
        "          # track statistics\n",
        "          with torch.no_grad():\n",
        "            running_loss += loss.item()\n",
        "            correct += calc_correct(outputs,labels)\n",
        "            total += labels.size(0)\n",
        "\n",
        "      print(f\"\\n Epoch [{epoch + 1} / {epochs}] Loss: {running_loss/len(trainloader)}\")\n",
        "      epoch_loss.append(running_loss)\n",
        "      running_loss = 0.0\n",
        "      train_acc = (100 * correct / total)\n",
        "      val_acc = val(model,device,valloader)\n",
        "      print(f'Train VS Val Accuracy: {train_acc} VS {val_acc}')\n",
        "      val_accs.append(val_acc)\n",
        "      train_accs.append(train_acc)\n",
        "  \n",
        "  print('Finished Training')\n",
        "  \n",
        "  return model,epoch_loss,val_accs,train_accs\n",
        "\n",
        "def val(model, device, valloader):\n",
        "  correct = 0\n",
        "  total = 0\n",
        "  model.eval()\n",
        "  model.to(device)\n",
        "  with torch.no_grad():\n",
        "      for data in valloader:\n",
        "          images, labels = data[0].to(device) , data[1].to(device)\n",
        "          labels = labels.view(-1)\n",
        "          # calculate outputs by running images through the network\n",
        "          outputs = model(images)\n",
        "          correct += calc_correct(outputs,labels)\n",
        "          total += labels.size(0)\n",
        "          \n",
        "  acc =  (100 * correct / total)\n",
        "  return acc\n",
        "\n",
        "def calc_correct(outputs,labels):\n",
        "  _, predicted = torch.max(outputs.data, 1)\n",
        "  \n",
        "  return (predicted == labels).sum().item() \n",
        "\n",
        "def define_augmentation(image_size):\n",
        "  DEFAULT_AUG =  T.Compose([\n",
        "        T.ToTensor(),                    \n",
        "        T.RandomHorizontalFlip(p=0.1),\n",
        "        T.RandomVerticalFlip(p=0.1),\n",
        "        T.RandomResizedCrop((image_size, image_size),scale=(0.5, 1.0)),\n",
        "       T.Normalize(mean=[0.485, 0.456, 0.406], std=[0.229, 0.224, 0.225]) \n",
        "  ])\n",
        "  return DEFAULT_AUG\n",
        "\n",
        "def main(mode='byol'):\n",
        "    reproducibility(77777)   \n",
        "    device = 'cuda'\n",
        "    data_transform = Augment(32)\n",
        "    BATCH_SIZE = 256\n",
        "\n",
        "    test_transform = T.Compose([\n",
        "                T.ToTensor(),\n",
        "                T.Normalize(mean=[0.485, 0.456, 0.406], std=[0.229, 0.224, 0.225]) ])\n",
        "\n",
        "    train_loader = get_cifar10_dataloader(batch_size=BATCH_SIZE, train=True, transform=define_augmentation(32))\n",
        "    test_loader = get_cifar10_dataloader(batch_size=BATCH_SIZE, train=False, transform=test_transform)\n",
        "\n",
        "    if mode == 'random':\n",
        "      model = torchvision.models.resnet18(pretrained=False)\n",
        "      model.fc = nn.Sequential(\n",
        "            nn.Linear(512, 128),\n",
        "            nn.ReLU(),\n",
        "            nn.Linear(128, 10))\n",
        "    elif mode == 'byol':\n",
        "      model = models.resnet18(pretrained=False)\n",
        "      model_ssl = BYOL(model, in_features=512, batch_norm_mlp=True)\n",
        "\n",
        "      model_ssl.load_state_dict(torch.load(PATH))\n",
        "      model = model_ssl.student_model.backbone\n",
        "      model.fc = nn.Sequential(\n",
        "            nn.Linear(512, 128),\n",
        "            nn.ReLU(),\n",
        "            nn.Linear(128, 10))\n",
        "    else:\n",
        "      model = torchvision.models.resnet18(pretrained=True)\n",
        "      model.fc = nn.Sequential(\n",
        "            nn.Linear(512, 128),\n",
        "            nn.ReLU(),\n",
        "            nn.Linear(128, 10))\n",
        "    \n",
        "    criterion = torch.nn.CrossEntropyLoss()\n",
        "\n",
        "    model, epoch_loss, val_accs, train_accs = train(model, train_loader,\n",
        "                                                      epochs=20, device=device, \n",
        "                                                      valloader=test_loader,\n",
        "                                                    criterion=criterion)\n",
        "    return model,val_accs\n",
        "\n",
        "###########################################################################\n",
        "\n",
        "model_byol, val_accs_1 = main('byol')\n",
        "_, val_accs_2 = main('imagenet')\n",
        "\n",
        "import matplotlib.pyplot as plt\n",
        "\n",
        "plt.plot(val_accs_1, label='byol')\n",
        "plt.plot(val_accs_2, label='supervised-imagenet-pretrained-weights')\n",
        "plt.ylabel('Validation Accuracy')\n",
        "plt.xlabel('Epochs')\n",
        "plt.legend()"
      ]
    },
    {
      "cell_type": "code",
      "execution_count": null,
      "metadata": {
        "id": "WAZLFl9soeJj"
      },
      "outputs": [],
      "source": [
        "import matplotlib.pyplot as plt\n",
        "\n",
        "plt.plot(val_accs_1, label='byol-simpleCNN')\n",
        "plt.plot(val_accs_2, label='supervised-imagenet-resnet18')\n",
        "plt.plot(val_accs_3, label='random-weights-simpleCNN')\n",
        "plt.ylabel('Validation Accuracy')\n",
        "plt.xlabel('Epochs')\n",
        "plt.legend()"
      ]
    }
  ],
  "metadata": {
    "accelerator": "GPU",
    "colab": {
      "collapsed_sections": [
        "nDg1RCPFerm6",
        "OTPAkVK3sMzS",
        "cGUGGUYo-rwu",
        "jtfbIiygSX9_"
      ],
      "machine_shape": "hm",
      "name": "AI Summer BYOL in CIFAR10.ipynb",
      "provenance": []
    },
    "kernelspec": {
      "display_name": "Python 3",
      "name": "python3"
    },
    "language_info": {
      "name": "python"
    }
  },
  "nbformat": 4,
  "nbformat_minor": 0
}